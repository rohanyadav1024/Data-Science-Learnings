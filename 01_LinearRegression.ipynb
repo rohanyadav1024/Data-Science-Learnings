{
 "cells": [
  {
   "cell_type": "code",
   "execution_count": 77,
   "id": "b5d09b3d-1080-4b88-b1e0-a2561026201f",
   "metadata": {},
   "outputs": [],
   "source": [
    "class MyLR:\n",
    "\n",
    "    def __init__(self):\n",
    "        self.m = 0\n",
    "        self.b = None\n",
    "\n",
    "    def fit(self, X_train, Y_train):\n",
    "        x_mean, y_mean = X_train.mean(), Y_train.mean()\n",
    "\n",
    "        for i in range(X_train.shape[0]):\n",
    "            self.m += ((X_train[i] - x_mean)*(Y_train[i] - y_mean) / (X_train[i] - x_mean) * (X_train[i] - x_mean))\n",
    "\n",
    "        self.b = self.m*x_mean - y_mean\n",
    "\n",
    "    def predict(self, X_train):\n",
    "        return self.m * X_train + self.b"
   ]
  },
  {
   "cell_type": "code",
   "execution_count": 79,
   "id": "1795cbfc-ab7e-4d5a-8f89-a9a9b1e2d485",
   "metadata": {},
   "outputs": [],
   "source": [
    "import numpy as np\n",
    "import pandas as pd\n",
    "from sklearn.model_selection import train_test_split"
   ]
  },
  {
   "cell_type": "code",
   "execution_count": 81,
   "id": "50deb2b6-a784-4e6c-bd62-d7f1266f1c67",
   "metadata": {},
   "outputs": [],
   "source": [
    "df = pd.read_csv(\"placement.csv\")"
   ]
  },
  {
   "cell_type": "code",
   "execution_count": 83,
   "id": "0585688e-5006-46c7-9267-1c1fd9520d3d",
   "metadata": {},
   "outputs": [
    {
     "data": {
      "text/html": [
       "<div>\n",
       "<style scoped>\n",
       "    .dataframe tbody tr th:only-of-type {\n",
       "        vertical-align: middle;\n",
       "    }\n",
       "\n",
       "    .dataframe tbody tr th {\n",
       "        vertical-align: top;\n",
       "    }\n",
       "\n",
       "    .dataframe thead th {\n",
       "        text-align: right;\n",
       "    }\n",
       "</style>\n",
       "<table border=\"1\" class=\"dataframe\">\n",
       "  <thead>\n",
       "    <tr style=\"text-align: right;\">\n",
       "      <th></th>\n",
       "      <th>cgpa</th>\n",
       "      <th>package</th>\n",
       "    </tr>\n",
       "  </thead>\n",
       "  <tbody>\n",
       "    <tr>\n",
       "      <th>0</th>\n",
       "      <td>6.89</td>\n",
       "      <td>3.26</td>\n",
       "    </tr>\n",
       "    <tr>\n",
       "      <th>1</th>\n",
       "      <td>5.12</td>\n",
       "      <td>1.98</td>\n",
       "    </tr>\n",
       "    <tr>\n",
       "      <th>2</th>\n",
       "      <td>7.82</td>\n",
       "      <td>3.25</td>\n",
       "    </tr>\n",
       "    <tr>\n",
       "      <th>3</th>\n",
       "      <td>7.42</td>\n",
       "      <td>3.67</td>\n",
       "    </tr>\n",
       "    <tr>\n",
       "      <th>4</th>\n",
       "      <td>6.94</td>\n",
       "      <td>3.57</td>\n",
       "    </tr>\n",
       "  </tbody>\n",
       "</table>\n",
       "</div>"
      ],
      "text/plain": [
       "   cgpa  package\n",
       "0  6.89     3.26\n",
       "1  5.12     1.98\n",
       "2  7.82     3.25\n",
       "3  7.42     3.67\n",
       "4  6.94     3.57"
      ]
     },
     "execution_count": 83,
     "metadata": {},
     "output_type": "execute_result"
    }
   ],
   "source": [
    "df.head() #optional"
   ]
  },
  {
   "cell_type": "code",
   "execution_count": 85,
   "id": "7951d416-e5e6-456d-96e0-8386bca765ad",
   "metadata": {},
   "outputs": [],
   "source": [
    "x = df.iloc[:, 0].values \n",
    "y = df.iloc[:, 1].values #getting numpy arrays for x and y colums"
   ]
  },
  {
   "cell_type": "code",
   "execution_count": 87,
   "id": "1e7d8f9b-9094-4ca7-9dcc-52c7221e621f",
   "metadata": {},
   "outputs": [],
   "source": [
    "X_train, X_test, Y_train, Y_test = train_test_split(x, y, test_size=0.23, random_state = 2)"
   ]
  },
  {
   "cell_type": "code",
   "execution_count": 89,
   "id": "fc7c71dd-7690-4a4e-98a8-6b7319d6f2f1",
   "metadata": {},
   "outputs": [
    {
     "data": {
      "text/plain": [
       "(154,)"
      ]
     },
     "execution_count": 89,
     "metadata": {},
     "output_type": "execute_result"
    }
   ],
   "source": [
    "X_train.shape\n",
    "# X_train.shape[0]"
   ]
  },
  {
   "cell_type": "code",
   "execution_count": 91,
   "id": "e7280275-56a7-44c1-857a-5638fde18272",
   "metadata": {},
   "outputs": [],
   "source": [
    "# initializing LR class\n",
    "\n",
    "lr = MyLR()"
   ]
  },
  {
   "cell_type": "code",
   "execution_count": 93,
   "id": "4ee39fc1-7076-41b4-9412-3d7f6b85c292",
   "metadata": {},
   "outputs": [],
   "source": [
    "# train the model\n",
    "lr.fit(X_train, Y_train)"
   ]
  },
  {
   "cell_type": "code",
   "execution_count": 95,
   "id": "34e184b8-959f-4865-aeb7-fafa50cdf679",
   "metadata": {},
   "outputs": [
    {
     "name": "stdout",
     "output_type": "stream",
     "text": [
      "1311.6594289745317\n"
     ]
    }
   ],
   "source": [
    "# predicting values\n",
    "print(lr.predict(X_train[1]))"
   ]
  }
 ],
 "metadata": {
  "kernelspec": {
   "display_name": "Python 3 (ipykernel)",
   "language": "python",
   "name": "python3"
  },
  "language_info": {
   "codemirror_mode": {
    "name": "ipython",
    "version": 3
   },
   "file_extension": ".py",
   "mimetype": "text/x-python",
   "name": "python",
   "nbconvert_exporter": "python",
   "pygments_lexer": "ipython3",
   "version": "3.12.7"
  }
 },
 "nbformat": 4,
 "nbformat_minor": 5
}
