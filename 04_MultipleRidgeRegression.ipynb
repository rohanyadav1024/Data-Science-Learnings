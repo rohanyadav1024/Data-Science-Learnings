{
 "cells": [
  {
   "cell_type": "code",
   "execution_count": 5,
   "id": "5de0686c-552a-46cd-84b8-d4ccf08cc3a1",
   "metadata": {},
   "outputs": [],
   "source": [
    "import numpy as np\n",
    "from sklearn.datasets import make_regression"
   ]
  },
  {
   "cell_type": "code",
   "execution_count": 222,
   "id": "58a9e7ce-e0af-4526-8c45-bc87362d4259",
   "metadata": {},
   "outputs": [],
   "source": [
    "X, y = make_regression(n_samples=100, n_features=2, n_informative=2, n_targets=1,noise=13, random_state=2)"
   ]
  },
  {
   "cell_type": "code",
   "execution_count": 224,
   "id": "3fa00e2c-d63b-4249-bb6c-03ee167326b2",
   "metadata": {},
   "outputs": [],
   "source": [
    "from sklearn.model_selection import train_test_split"
   ]
  },
  {
   "cell_type": "code",
   "execution_count": 226,
   "id": "73701b25-632d-44bf-95a7-b7c177ae84eb",
   "metadata": {},
   "outputs": [],
   "source": [
    "X_train, X_test, Y_train, Y_test = train_test_split(X, y, test_size=.25, random_state=3)"
   ]
  },
  {
   "cell_type": "code",
   "execution_count": 228,
   "id": "51196cc7-ff08-4b0b-b019-031b492ee001",
   "metadata": {},
   "outputs": [
    {
     "data": {
      "text/plain": [
       "array([[ 1.10914328e+00, -1.76491773e+00],\n",
       "       [-3.25049628e-01, -5.60234506e-01],\n",
       "       [-6.37655012e-01, -1.18761229e+00],\n",
       "       [-1.48246548e+00,  8.46311892e-01],\n",
       "       [ 3.70444537e-01,  1.35963386e+00],\n",
       "       [-3.64479092e-01, -8.75979478e-01],\n",
       "       [-3.13508197e-01,  7.71011738e-01],\n",
       "       [-2.13619610e+00,  1.64027081e+00],\n",
       "       [ 4.10869262e+00,  8.21120877e-01],\n",
       "       [ 1.36723542e+00,  1.21788563e+00],\n",
       "       [-1.54667461e+00, -2.08265194e+00],\n",
       "       [-8.78107893e-01, -1.56434170e-01],\n",
       "       [ 5.02881417e-01, -1.24528809e+00],\n",
       "       [-1.25542722e+00,  9.38163671e-01],\n",
       "       [-7.19253841e-01, -5.83414595e-01],\n",
       "       [-2.69056960e-01,  2.23136679e+00],\n",
       "       [-3.75669423e-01, -7.44707629e-02],\n",
       "       [-1.86809065e+00,  1.73118467e+00],\n",
       "       [ 1.46767801e+00, -3.35677339e-01],\n",
       "       [ 7.99179995e-01,  1.26261366e+00],\n",
       "       [ 5.51454045e-01,  2.29220801e+00],\n",
       "       [ 6.10144086e-01,  4.23496900e-01],\n",
       "       [ 9.60781945e-01,  7.58370347e-01],\n",
       "       [-3.23580070e-01,  4.23824708e-01],\n",
       "       [-2.04032305e+00,  4.62555231e-02],\n",
       "       [-1.42121723e+00, -1.53495196e-01],\n",
       "       [ 8.24703005e-01,  1.24821292e+00],\n",
       "       [ 3.65053516e-01,  7.74082033e-01],\n",
       "       [ 7.51964849e-01, -9.93760983e-01],\n",
       "       [-9.02246068e-01, -5.90972275e-01],\n",
       "       [-5.93755583e-01,  1.14950057e+00],\n",
       "       [ 6.11340780e-01,  4.79705919e-02],\n",
       "       [-1.22142917e+00,  1.80447664e+00],\n",
       "       [-2.43476758e+00,  1.12726505e-01],\n",
       "       [ 9.76147160e-06,  5.42352572e-01],\n",
       "       [ 1.03302907e+00, -3.29002435e-01],\n",
       "       [ 5.24296430e-01,  7.35279576e-01],\n",
       "       [ 4.97940148e-01,  1.26504175e-01],\n",
       "       [-1.13313327e+00,  4.33092555e-01],\n",
       "       [ 1.33556617e+00,  3.02629336e-01],\n",
       "       [-3.38821966e-01, -2.36184031e-01],\n",
       "       [-1.06079904e+00,  5.91666521e-01],\n",
       "       [ 5.01857207e-01, -8.44213704e-01],\n",
       "       [ 1.83533272e+00,  4.40689872e-01],\n",
       "       [ 1.11788673e+00, -2.74242089e-01],\n",
       "       [-4.16757847e-01, -5.62668272e-02],\n",
       "       [ 8.29458431e-01,  6.30621967e-01],\n",
       "       [-8.29135289e-01,  8.77102184e-02],\n",
       "       [ 2.55043824e+00, -1.47317325e+00],\n",
       "       [-1.89469265e-01, -7.72186654e-02],\n",
       "       [-6.34679305e-01,  5.08396243e-01],\n",
       "       [-2.76179492e-01, -5.16883894e-01],\n",
       "       [ 1.53176032e+00, -1.98584577e+00],\n",
       "       [-4.68346260e-01, -1.25472031e+00],\n",
       "       [-4.62005348e-01,  3.50888494e-01],\n",
       "       [-3.81516482e-01,  6.64890091e-02],\n",
       "       [-6.53250268e-01,  8.42456282e-01],\n",
       "       [-1.79343559e+00, -8.41747366e-01],\n",
       "       [-1.05795222e+00, -9.09007615e-01],\n",
       "       [ 4.33496330e-01,  1.27837923e+00],\n",
       "       [ 1.74181219e+00, -4.47500876e-01],\n",
       "       [ 1.17353150e+00, -2.34360319e+00],\n",
       "       [ 6.95119605e-01, -2.03346655e+00],\n",
       "       [-4.54227855e-01,  5.14370717e-01],\n",
       "       [ 3.81866234e-01,  5.66275441e-01],\n",
       "       [-1.73795950e+00,  1.04082395e+00],\n",
       "       [-4.03892269e-01, -1.38451867e+00],\n",
       "       [-1.13431848e+00, -7.07420888e-01],\n",
       "       [-1.41881055e+00, -2.51774118e-01],\n",
       "       [-1.09873895e+00,  1.58448706e+00],\n",
       "       [ 1.80409807e-01,  5.53164274e-01],\n",
       "       [ 3.27974540e+00,  9.70861320e-01],\n",
       "       [ 6.96197980e-01,  6.97416272e-01],\n",
       "       [ 3.96520159e-01, -3.14617436e-01],\n",
       "       [ 6.01515814e-01,  3.65949071e-03]])"
      ]
     },
     "execution_count": 228,
     "metadata": {},
     "output_type": "execute_result"
    }
   ],
   "source": [
    "X_train"
   ]
  },
  {
   "cell_type": "code",
   "execution_count": 230,
   "id": "900d5876-3c1b-4de1-b3c2-111e1db52634",
   "metadata": {},
   "outputs": [
    {
     "data": {
      "text/plain": [
       "array([ 1.06663212e+01, -2.41284176e+01, -4.23383586e+01, -6.28392170e+01,\n",
       "        2.74241021e+01, -1.34562176e+01,  3.38410995e+00, -3.25784426e+01,\n",
       "        1.71520711e+02,  8.09157140e+01, -1.04520058e+02, -4.03310841e+01,\n",
       "       -1.71875365e+01, -5.73810884e+01, -3.28964116e+01,  3.34358219e+01,\n",
       "       -1.51761666e+00, -5.12755565e+01,  5.06886452e+01,  4.67060176e+01,\n",
       "        7.14247833e+01,  2.61120323e+01,  4.37652554e+01, -1.58449214e+01,\n",
       "       -9.01749019e+01, -6.40442109e+01,  4.97002763e+01,  1.26665214e+01,\n",
       "       -2.34090949e+00, -4.05276685e+01, -1.14974839e+01,  6.73311086e+00,\n",
       "       -1.94750281e+01, -8.35194912e+01,  3.75518662e+01,  4.11770323e+01,\n",
       "        5.04620962e-01,  1.24332821e+01, -3.33582585e+01,  8.13845882e+01,\n",
       "       -2.61897055e+01, -3.21194040e+01, -2.32847663e-03,  7.85068016e+01,\n",
       "        5.71386651e+01, -1.87990361e+01,  3.54018104e+01, -1.52831985e+01,\n",
       "        7.95000153e+01, -9.66092365e+00, -1.00290587e+01,  5.02362877e+00,\n",
       "        1.59143213e+00, -3.67235309e+01, -1.93750156e+01, -3.56251766e+01,\n",
       "        1.38844657e+01, -7.19971032e+01, -4.78596566e+01,  5.10303089e+01,\n",
       "        3.84430915e+01,  9.89797642e+00, -3.61217846e+01, -2.20452767e+01,\n",
       "        2.95627587e+01, -5.19742687e+01, -4.21436603e+01, -5.80579414e+01,\n",
       "       -7.23885061e+01, -1.45825172e+01,  2.80542642e+01,  1.34244452e+02,\n",
       "        5.25375341e+01,  2.28556592e+01,  4.07677367e+01])"
      ]
     },
     "execution_count": 230,
     "metadata": {},
     "output_type": "execute_result"
    }
   ],
   "source": [
    "Y_train"
   ]
  },
  {
   "cell_type": "code",
   "execution_count": 232,
   "id": "c17a15a8-11e1-48a7-bd1b-6d198b51062e",
   "metadata": {},
   "outputs": [],
   "source": [
    "from sklearn.linear_model import Ridge"
   ]
  },
  {
   "cell_type": "code",
   "execution_count": 234,
   "id": "e46b8b8e-ffbe-4e9d-b0a1-bf17f42a4fbf",
   "metadata": {},
   "outputs": [],
   "source": [
    "ridge = Ridge(alpha=0.5, solver='cholesky')"
   ]
  },
  {
   "cell_type": "code",
   "execution_count": 236,
   "id": "44116e52-7e95-4a52-b410-b3f40254fdf8",
   "metadata": {},
   "outputs": [
    {
     "data": {
      "text/html": [
       "<style>#sk-container-id-4 {\n",
       "  /* Definition of color scheme common for light and dark mode */\n",
       "  --sklearn-color-text: black;\n",
       "  --sklearn-color-line: gray;\n",
       "  /* Definition of color scheme for unfitted estimators */\n",
       "  --sklearn-color-unfitted-level-0: #fff5e6;\n",
       "  --sklearn-color-unfitted-level-1: #f6e4d2;\n",
       "  --sklearn-color-unfitted-level-2: #ffe0b3;\n",
       "  --sklearn-color-unfitted-level-3: chocolate;\n",
       "  /* Definition of color scheme for fitted estimators */\n",
       "  --sklearn-color-fitted-level-0: #f0f8ff;\n",
       "  --sklearn-color-fitted-level-1: #d4ebff;\n",
       "  --sklearn-color-fitted-level-2: #b3dbfd;\n",
       "  --sklearn-color-fitted-level-3: cornflowerblue;\n",
       "\n",
       "  /* Specific color for light theme */\n",
       "  --sklearn-color-text-on-default-background: var(--sg-text-color, var(--theme-code-foreground, var(--jp-content-font-color1, black)));\n",
       "  --sklearn-color-background: var(--sg-background-color, var(--theme-background, var(--jp-layout-color0, white)));\n",
       "  --sklearn-color-border-box: var(--sg-text-color, var(--theme-code-foreground, var(--jp-content-font-color1, black)));\n",
       "  --sklearn-color-icon: #696969;\n",
       "\n",
       "  @media (prefers-color-scheme: dark) {\n",
       "    /* Redefinition of color scheme for dark theme */\n",
       "    --sklearn-color-text-on-default-background: var(--sg-text-color, var(--theme-code-foreground, var(--jp-content-font-color1, white)));\n",
       "    --sklearn-color-background: var(--sg-background-color, var(--theme-background, var(--jp-layout-color0, #111)));\n",
       "    --sklearn-color-border-box: var(--sg-text-color, var(--theme-code-foreground, var(--jp-content-font-color1, white)));\n",
       "    --sklearn-color-icon: #878787;\n",
       "  }\n",
       "}\n",
       "\n",
       "#sk-container-id-4 {\n",
       "  color: var(--sklearn-color-text);\n",
       "}\n",
       "\n",
       "#sk-container-id-4 pre {\n",
       "  padding: 0;\n",
       "}\n",
       "\n",
       "#sk-container-id-4 input.sk-hidden--visually {\n",
       "  border: 0;\n",
       "  clip: rect(1px 1px 1px 1px);\n",
       "  clip: rect(1px, 1px, 1px, 1px);\n",
       "  height: 1px;\n",
       "  margin: -1px;\n",
       "  overflow: hidden;\n",
       "  padding: 0;\n",
       "  position: absolute;\n",
       "  width: 1px;\n",
       "}\n",
       "\n",
       "#sk-container-id-4 div.sk-dashed-wrapped {\n",
       "  border: 1px dashed var(--sklearn-color-line);\n",
       "  margin: 0 0.4em 0.5em 0.4em;\n",
       "  box-sizing: border-box;\n",
       "  padding-bottom: 0.4em;\n",
       "  background-color: var(--sklearn-color-background);\n",
       "}\n",
       "\n",
       "#sk-container-id-4 div.sk-container {\n",
       "  /* jupyter's `normalize.less` sets `[hidden] { display: none; }`\n",
       "     but bootstrap.min.css set `[hidden] { display: none !important; }`\n",
       "     so we also need the `!important` here to be able to override the\n",
       "     default hidden behavior on the sphinx rendered scikit-learn.org.\n",
       "     See: https://github.com/scikit-learn/scikit-learn/issues/21755 */\n",
       "  display: inline-block !important;\n",
       "  position: relative;\n",
       "}\n",
       "\n",
       "#sk-container-id-4 div.sk-text-repr-fallback {\n",
       "  display: none;\n",
       "}\n",
       "\n",
       "div.sk-parallel-item,\n",
       "div.sk-serial,\n",
       "div.sk-item {\n",
       "  /* draw centered vertical line to link estimators */\n",
       "  background-image: linear-gradient(var(--sklearn-color-text-on-default-background), var(--sklearn-color-text-on-default-background));\n",
       "  background-size: 2px 100%;\n",
       "  background-repeat: no-repeat;\n",
       "  background-position: center center;\n",
       "}\n",
       "\n",
       "/* Parallel-specific style estimator block */\n",
       "\n",
       "#sk-container-id-4 div.sk-parallel-item::after {\n",
       "  content: \"\";\n",
       "  width: 100%;\n",
       "  border-bottom: 2px solid var(--sklearn-color-text-on-default-background);\n",
       "  flex-grow: 1;\n",
       "}\n",
       "\n",
       "#sk-container-id-4 div.sk-parallel {\n",
       "  display: flex;\n",
       "  align-items: stretch;\n",
       "  justify-content: center;\n",
       "  background-color: var(--sklearn-color-background);\n",
       "  position: relative;\n",
       "}\n",
       "\n",
       "#sk-container-id-4 div.sk-parallel-item {\n",
       "  display: flex;\n",
       "  flex-direction: column;\n",
       "}\n",
       "\n",
       "#sk-container-id-4 div.sk-parallel-item:first-child::after {\n",
       "  align-self: flex-end;\n",
       "  width: 50%;\n",
       "}\n",
       "\n",
       "#sk-container-id-4 div.sk-parallel-item:last-child::after {\n",
       "  align-self: flex-start;\n",
       "  width: 50%;\n",
       "}\n",
       "\n",
       "#sk-container-id-4 div.sk-parallel-item:only-child::after {\n",
       "  width: 0;\n",
       "}\n",
       "\n",
       "/* Serial-specific style estimator block */\n",
       "\n",
       "#sk-container-id-4 div.sk-serial {\n",
       "  display: flex;\n",
       "  flex-direction: column;\n",
       "  align-items: center;\n",
       "  background-color: var(--sklearn-color-background);\n",
       "  padding-right: 1em;\n",
       "  padding-left: 1em;\n",
       "}\n",
       "\n",
       "\n",
       "/* Toggleable style: style used for estimator/Pipeline/ColumnTransformer box that is\n",
       "clickable and can be expanded/collapsed.\n",
       "- Pipeline and ColumnTransformer use this feature and define the default style\n",
       "- Estimators will overwrite some part of the style using the `sk-estimator` class\n",
       "*/\n",
       "\n",
       "/* Pipeline and ColumnTransformer style (default) */\n",
       "\n",
       "#sk-container-id-4 div.sk-toggleable {\n",
       "  /* Default theme specific background. It is overwritten whether we have a\n",
       "  specific estimator or a Pipeline/ColumnTransformer */\n",
       "  background-color: var(--sklearn-color-background);\n",
       "}\n",
       "\n",
       "/* Toggleable label */\n",
       "#sk-container-id-4 label.sk-toggleable__label {\n",
       "  cursor: pointer;\n",
       "  display: block;\n",
       "  width: 100%;\n",
       "  margin-bottom: 0;\n",
       "  padding: 0.5em;\n",
       "  box-sizing: border-box;\n",
       "  text-align: center;\n",
       "}\n",
       "\n",
       "#sk-container-id-4 label.sk-toggleable__label-arrow:before {\n",
       "  /* Arrow on the left of the label */\n",
       "  content: \"▸\";\n",
       "  float: left;\n",
       "  margin-right: 0.25em;\n",
       "  color: var(--sklearn-color-icon);\n",
       "}\n",
       "\n",
       "#sk-container-id-4 label.sk-toggleable__label-arrow:hover:before {\n",
       "  color: var(--sklearn-color-text);\n",
       "}\n",
       "\n",
       "/* Toggleable content - dropdown */\n",
       "\n",
       "#sk-container-id-4 div.sk-toggleable__content {\n",
       "  max-height: 0;\n",
       "  max-width: 0;\n",
       "  overflow: hidden;\n",
       "  text-align: left;\n",
       "  /* unfitted */\n",
       "  background-color: var(--sklearn-color-unfitted-level-0);\n",
       "}\n",
       "\n",
       "#sk-container-id-4 div.sk-toggleable__content.fitted {\n",
       "  /* fitted */\n",
       "  background-color: var(--sklearn-color-fitted-level-0);\n",
       "}\n",
       "\n",
       "#sk-container-id-4 div.sk-toggleable__content pre {\n",
       "  margin: 0.2em;\n",
       "  border-radius: 0.25em;\n",
       "  color: var(--sklearn-color-text);\n",
       "  /* unfitted */\n",
       "  background-color: var(--sklearn-color-unfitted-level-0);\n",
       "}\n",
       "\n",
       "#sk-container-id-4 div.sk-toggleable__content.fitted pre {\n",
       "  /* unfitted */\n",
       "  background-color: var(--sklearn-color-fitted-level-0);\n",
       "}\n",
       "\n",
       "#sk-container-id-4 input.sk-toggleable__control:checked~div.sk-toggleable__content {\n",
       "  /* Expand drop-down */\n",
       "  max-height: 200px;\n",
       "  max-width: 100%;\n",
       "  overflow: auto;\n",
       "}\n",
       "\n",
       "#sk-container-id-4 input.sk-toggleable__control:checked~label.sk-toggleable__label-arrow:before {\n",
       "  content: \"▾\";\n",
       "}\n",
       "\n",
       "/* Pipeline/ColumnTransformer-specific style */\n",
       "\n",
       "#sk-container-id-4 div.sk-label input.sk-toggleable__control:checked~label.sk-toggleable__label {\n",
       "  color: var(--sklearn-color-text);\n",
       "  background-color: var(--sklearn-color-unfitted-level-2);\n",
       "}\n",
       "\n",
       "#sk-container-id-4 div.sk-label.fitted input.sk-toggleable__control:checked~label.sk-toggleable__label {\n",
       "  background-color: var(--sklearn-color-fitted-level-2);\n",
       "}\n",
       "\n",
       "/* Estimator-specific style */\n",
       "\n",
       "/* Colorize estimator box */\n",
       "#sk-container-id-4 div.sk-estimator input.sk-toggleable__control:checked~label.sk-toggleable__label {\n",
       "  /* unfitted */\n",
       "  background-color: var(--sklearn-color-unfitted-level-2);\n",
       "}\n",
       "\n",
       "#sk-container-id-4 div.sk-estimator.fitted input.sk-toggleable__control:checked~label.sk-toggleable__label {\n",
       "  /* fitted */\n",
       "  background-color: var(--sklearn-color-fitted-level-2);\n",
       "}\n",
       "\n",
       "#sk-container-id-4 div.sk-label label.sk-toggleable__label,\n",
       "#sk-container-id-4 div.sk-label label {\n",
       "  /* The background is the default theme color */\n",
       "  color: var(--sklearn-color-text-on-default-background);\n",
       "}\n",
       "\n",
       "/* On hover, darken the color of the background */\n",
       "#sk-container-id-4 div.sk-label:hover label.sk-toggleable__label {\n",
       "  color: var(--sklearn-color-text);\n",
       "  background-color: var(--sklearn-color-unfitted-level-2);\n",
       "}\n",
       "\n",
       "/* Label box, darken color on hover, fitted */\n",
       "#sk-container-id-4 div.sk-label.fitted:hover label.sk-toggleable__label.fitted {\n",
       "  color: var(--sklearn-color-text);\n",
       "  background-color: var(--sklearn-color-fitted-level-2);\n",
       "}\n",
       "\n",
       "/* Estimator label */\n",
       "\n",
       "#sk-container-id-4 div.sk-label label {\n",
       "  font-family: monospace;\n",
       "  font-weight: bold;\n",
       "  display: inline-block;\n",
       "  line-height: 1.2em;\n",
       "}\n",
       "\n",
       "#sk-container-id-4 div.sk-label-container {\n",
       "  text-align: center;\n",
       "}\n",
       "\n",
       "/* Estimator-specific */\n",
       "#sk-container-id-4 div.sk-estimator {\n",
       "  font-family: monospace;\n",
       "  border: 1px dotted var(--sklearn-color-border-box);\n",
       "  border-radius: 0.25em;\n",
       "  box-sizing: border-box;\n",
       "  margin-bottom: 0.5em;\n",
       "  /* unfitted */\n",
       "  background-color: var(--sklearn-color-unfitted-level-0);\n",
       "}\n",
       "\n",
       "#sk-container-id-4 div.sk-estimator.fitted {\n",
       "  /* fitted */\n",
       "  background-color: var(--sklearn-color-fitted-level-0);\n",
       "}\n",
       "\n",
       "/* on hover */\n",
       "#sk-container-id-4 div.sk-estimator:hover {\n",
       "  /* unfitted */\n",
       "  background-color: var(--sklearn-color-unfitted-level-2);\n",
       "}\n",
       "\n",
       "#sk-container-id-4 div.sk-estimator.fitted:hover {\n",
       "  /* fitted */\n",
       "  background-color: var(--sklearn-color-fitted-level-2);\n",
       "}\n",
       "\n",
       "/* Specification for estimator info (e.g. \"i\" and \"?\") */\n",
       "\n",
       "/* Common style for \"i\" and \"?\" */\n",
       "\n",
       ".sk-estimator-doc-link,\n",
       "a:link.sk-estimator-doc-link,\n",
       "a:visited.sk-estimator-doc-link {\n",
       "  float: right;\n",
       "  font-size: smaller;\n",
       "  line-height: 1em;\n",
       "  font-family: monospace;\n",
       "  background-color: var(--sklearn-color-background);\n",
       "  border-radius: 1em;\n",
       "  height: 1em;\n",
       "  width: 1em;\n",
       "  text-decoration: none !important;\n",
       "  margin-left: 1ex;\n",
       "  /* unfitted */\n",
       "  border: var(--sklearn-color-unfitted-level-1) 1pt solid;\n",
       "  color: var(--sklearn-color-unfitted-level-1);\n",
       "}\n",
       "\n",
       ".sk-estimator-doc-link.fitted,\n",
       "a:link.sk-estimator-doc-link.fitted,\n",
       "a:visited.sk-estimator-doc-link.fitted {\n",
       "  /* fitted */\n",
       "  border: var(--sklearn-color-fitted-level-1) 1pt solid;\n",
       "  color: var(--sklearn-color-fitted-level-1);\n",
       "}\n",
       "\n",
       "/* On hover */\n",
       "div.sk-estimator:hover .sk-estimator-doc-link:hover,\n",
       ".sk-estimator-doc-link:hover,\n",
       "div.sk-label-container:hover .sk-estimator-doc-link:hover,\n",
       ".sk-estimator-doc-link:hover {\n",
       "  /* unfitted */\n",
       "  background-color: var(--sklearn-color-unfitted-level-3);\n",
       "  color: var(--sklearn-color-background);\n",
       "  text-decoration: none;\n",
       "}\n",
       "\n",
       "div.sk-estimator.fitted:hover .sk-estimator-doc-link.fitted:hover,\n",
       ".sk-estimator-doc-link.fitted:hover,\n",
       "div.sk-label-container:hover .sk-estimator-doc-link.fitted:hover,\n",
       ".sk-estimator-doc-link.fitted:hover {\n",
       "  /* fitted */\n",
       "  background-color: var(--sklearn-color-fitted-level-3);\n",
       "  color: var(--sklearn-color-background);\n",
       "  text-decoration: none;\n",
       "}\n",
       "\n",
       "/* Span, style for the box shown on hovering the info icon */\n",
       ".sk-estimator-doc-link span {\n",
       "  display: none;\n",
       "  z-index: 9999;\n",
       "  position: relative;\n",
       "  font-weight: normal;\n",
       "  right: .2ex;\n",
       "  padding: .5ex;\n",
       "  margin: .5ex;\n",
       "  width: min-content;\n",
       "  min-width: 20ex;\n",
       "  max-width: 50ex;\n",
       "  color: var(--sklearn-color-text);\n",
       "  box-shadow: 2pt 2pt 4pt #999;\n",
       "  /* unfitted */\n",
       "  background: var(--sklearn-color-unfitted-level-0);\n",
       "  border: .5pt solid var(--sklearn-color-unfitted-level-3);\n",
       "}\n",
       "\n",
       ".sk-estimator-doc-link.fitted span {\n",
       "  /* fitted */\n",
       "  background: var(--sklearn-color-fitted-level-0);\n",
       "  border: var(--sklearn-color-fitted-level-3);\n",
       "}\n",
       "\n",
       ".sk-estimator-doc-link:hover span {\n",
       "  display: block;\n",
       "}\n",
       "\n",
       "/* \"?\"-specific style due to the `<a>` HTML tag */\n",
       "\n",
       "#sk-container-id-4 a.estimator_doc_link {\n",
       "  float: right;\n",
       "  font-size: 1rem;\n",
       "  line-height: 1em;\n",
       "  font-family: monospace;\n",
       "  background-color: var(--sklearn-color-background);\n",
       "  border-radius: 1rem;\n",
       "  height: 1rem;\n",
       "  width: 1rem;\n",
       "  text-decoration: none;\n",
       "  /* unfitted */\n",
       "  color: var(--sklearn-color-unfitted-level-1);\n",
       "  border: var(--sklearn-color-unfitted-level-1) 1pt solid;\n",
       "}\n",
       "\n",
       "#sk-container-id-4 a.estimator_doc_link.fitted {\n",
       "  /* fitted */\n",
       "  border: var(--sklearn-color-fitted-level-1) 1pt solid;\n",
       "  color: var(--sklearn-color-fitted-level-1);\n",
       "}\n",
       "\n",
       "/* On hover */\n",
       "#sk-container-id-4 a.estimator_doc_link:hover {\n",
       "  /* unfitted */\n",
       "  background-color: var(--sklearn-color-unfitted-level-3);\n",
       "  color: var(--sklearn-color-background);\n",
       "  text-decoration: none;\n",
       "}\n",
       "\n",
       "#sk-container-id-4 a.estimator_doc_link.fitted:hover {\n",
       "  /* fitted */\n",
       "  background-color: var(--sklearn-color-fitted-level-3);\n",
       "}\n",
       "</style><div id=\"sk-container-id-4\" class=\"sk-top-container\"><div class=\"sk-text-repr-fallback\"><pre>Ridge(alpha=0.5, solver=&#x27;cholesky&#x27;)</pre><b>In a Jupyter environment, please rerun this cell to show the HTML representation or trust the notebook. <br />On GitHub, the HTML representation is unable to render, please try loading this page with nbviewer.org.</b></div><div class=\"sk-container\" hidden><div class=\"sk-item\"><div class=\"sk-estimator fitted sk-toggleable\"><input class=\"sk-toggleable__control sk-hidden--visually\" id=\"sk-estimator-id-4\" type=\"checkbox\" checked><label for=\"sk-estimator-id-4\" class=\"sk-toggleable__label fitted sk-toggleable__label-arrow fitted\">&nbsp;&nbsp;Ridge<a class=\"sk-estimator-doc-link fitted\" rel=\"noreferrer\" target=\"_blank\" href=\"https://scikit-learn.org/1.5/modules/generated/sklearn.linear_model.Ridge.html\">?<span>Documentation for Ridge</span></a><span class=\"sk-estimator-doc-link fitted\">i<span>Fitted</span></span></label><div class=\"sk-toggleable__content fitted\"><pre>Ridge(alpha=0.5, solver=&#x27;cholesky&#x27;)</pre></div> </div></div></div></div>"
      ],
      "text/plain": [
       "Ridge(alpha=0.5, solver='cholesky')"
      ]
     },
     "execution_count": 236,
     "metadata": {},
     "output_type": "execute_result"
    }
   ],
   "source": [
    "ridge.fit(X_train, Y_train)"
   ]
  },
  {
   "cell_type": "code",
   "execution_count": 238,
   "id": "3b16f95c-5ea8-4680-a058-9fcf8fefa616",
   "metadata": {},
   "outputs": [],
   "source": [
    "y_pred = ridge.predict(X_test)"
   ]
  },
  {
   "cell_type": "code",
   "execution_count": 240,
   "id": "8b8fcef1-17ca-41ff-9764-532f4ff401e0",
   "metadata": {},
   "outputs": [
    {
     "data": {
      "text/plain": [
       "array([ -44.43169039,  -19.73320069,  -62.35860757,   24.08001641,\n",
       "         34.66005097,    8.70227824,  -29.20066223,   19.77648416,\n",
       "          3.51573808,   17.32838607,  -47.34900357,   30.16733233,\n",
       "        -14.36153135,  -52.94736678,   10.70556904,    9.58388282,\n",
       "       -103.72743983,   59.42053239,  -19.28417431,   -9.20062139,\n",
       "         50.28697144,   32.49519482,   17.61852747,  -31.88195516,\n",
       "        -26.60248005])"
      ]
     },
     "execution_count": 240,
     "metadata": {},
     "output_type": "execute_result"
    }
   ],
   "source": [
    "y_pred"
   ]
  },
  {
   "cell_type": "code",
   "execution_count": 242,
   "id": "f746f0be-7980-4c98-9964-7861b17baf56",
   "metadata": {},
   "outputs": [
    {
     "data": {
      "text/plain": [
       "array([ -42.05510547,  -32.14967475,  -57.56860887,    9.23533379,\n",
       "          3.6517273 ,    8.48610902,  -24.02109718,   -3.83230027,\n",
       "         -4.30256093,   16.25263571,  -36.16512598,   36.1118999 ,\n",
       "        -25.3798122 ,  -57.2982686 ,   -7.47612693,    6.93060151,\n",
       "       -120.02892763,   56.04446529,  -15.83635757,  -25.41091699,\n",
       "         51.85829027,   39.53113363,   18.21368478,  -42.23461667,\n",
       "        -12.22972585])"
      ]
     },
     "execution_count": 242,
     "metadata": {},
     "output_type": "execute_result"
    }
   ],
   "source": [
    "Y_test"
   ]
  },
  {
   "cell_type": "code",
   "execution_count": 244,
   "id": "11ef6c32-886c-4da5-8861-4429d104f6f8",
   "metadata": {},
   "outputs": [],
   "source": [
    "from sklearn.metrics import r2_score"
   ]
  },
  {
   "cell_type": "code",
   "execution_count": 246,
   "id": "c9643e64-a93d-48c0-bf37-d30171dcba66",
   "metadata": {},
   "outputs": [],
   "source": [
    "r2score = r2_score(Y_test, y_pred)"
   ]
  },
  {
   "cell_type": "code",
   "execution_count": 248,
   "id": "95a5981f-8edf-4a7d-b216-c80ce908ff7a",
   "metadata": {},
   "outputs": [
    {
     "data": {
      "text/plain": [
       "0.9010941009336139"
      ]
     },
     "execution_count": 248,
     "metadata": {},
     "output_type": "execute_result"
    }
   ],
   "source": [
    "r2score"
   ]
  },
  {
   "cell_type": "code",
   "execution_count": 250,
   "id": "0b11ad2c-54e8-4df6-aab9-ef97fb5c6932",
   "metadata": {},
   "outputs": [],
   "source": [
    "import matplotlib.pyplot as py"
   ]
  },
  {
   "cell_type": "code",
   "execution_count": 252,
   "id": "447c2fe7-a7d7-4480-963e-9111e2e1d0bd",
   "metadata": {},
   "outputs": [
    {
     "data": {
      "text/plain": [
       "<matplotlib.collections.PathCollection at 0x1349039b0>"
      ]
     },
     "execution_count": 252,
     "metadata": {},
     "output_type": "execute_result"
    },
    {
     "data": {
      "image/png": "[encoded data removed]",
      "text/plain": [
       "<Figure size 640x480 with 1 Axes>"
      ]
     },
     "metadata": {},
     "output_type": "display_data"
    }
   ],
   "source": [
    "py.scatter(X_train[:, 0], Y_train, color=\"blue\")"
   ]
  },
  {
   "cell_type": "code",
   "execution_count": 254,
   "id": "cd01b0d1-8a97-44b1-bdc7-57a7b4b7d9ef",
   "metadata": {},
   "outputs": [
    {
     "data": {
      "text/plain": [
       "-0.924900772199014"
      ]
     },
     "execution_count": 254,
     "metadata": {},
     "output_type": "execute_result"
    }
   ],
   "source": [
    "ridge.intercept_"
   ]
  },
  {
   "cell_type": "code",
   "execution_count": 256,
   "id": "ac75ca6e-fbee-49a1-af09-cf23d6bf2d49",
   "metadata": {},
   "outputs": [
    {
     "data": {
      "text/plain": [
       "array([38.02842989, 18.23733228])"
      ]
     },
     "execution_count": 256,
     "metadata": {},
     "output_type": "execute_result"
    }
   ],
   "source": [
    "ridge.coef_"
   ]
  },
  {
   "cell_type": "code",
   "execution_count": 258,
   "id": "49fc1d74-6bcc-4032-a196-34c16b038f26",
   "metadata": {},
   "outputs": [
    {
     "data": {
      "text/plain": [
       "(75, 2)"
      ]
     },
     "execution_count": 258,
     "metadata": {},
     "output_type": "execute_result"
    }
   ],
   "source": [
    "X_train.shape"
   ]
  },
  {
   "cell_type": "code",
   "execution_count": 260,
   "id": "aa175e1d-8caf-435e-a481-e1af0fbe3aea",
   "metadata": {},
   "outputs": [],
   "source": [
    "class MRidge:\n",
    "    def __init__(self, alpha=0.1):\n",
    "        self.coef_ = None\n",
    "        self.intercept_ = None\n",
    "        self.alpha = alpha\n",
    "\n",
    "    def fit(self, X, Y):\n",
    "        X = np.insert(X, 0, 1, axis=1)\n",
    "        I = np.identity(X.shape[1])\n",
    "        I[0][0] = 0\n",
    "\n",
    "        betas = np.linalg.inv(np.dot(X.T, X) + self.alpha * I).dot(X.T).dot(Y)\n",
    "        self.coef_ = betas[1:]\n",
    "        self.intercept_ = betas[0]\n",
    "\n",
    "        print(self.coef_)\n",
    "        print(self.intercept_)\n",
    "\n",
    "    def predict(self, X_test):\n",
    "        return self.coef_ * X_test + self.intercept\n",
    "\n",
    "        "
   ]
  },
  {
   "cell_type": "code",
   "execution_count": 262,
   "id": "32e8ec7c-b715-4511-89c0-a23ad872ea42",
   "metadata": {},
   "outputs": [],
   "source": [
    "mridge = MRidge(alpha = 10)"
   ]
  },
  {
   "cell_type": "code",
   "execution_count": 264,
   "id": "19802502-df27-45fa-87ca-48431883ee7d",
   "metadata": {},
   "outputs": [
    {
     "name": "stdout",
     "output_type": "stream",
     "text": [
      "[34.8532277  15.95446711]\n",
      "-0.74059409600343\n"
     ]
    }
   ],
   "source": [
    "mridge.fit(X_train,Y_train)"
   ]
  },
  {
   "cell_type": "code",
   "execution_count": 266,
   "id": "c7218181-a9e4-4604-b218-70558d0799db",
   "metadata": {},
   "outputs": [
    {
     "data": {
      "text/plain": [
       "0.9010941009336139"
      ]
     },
     "execution_count": 266,
     "metadata": {},
     "output_type": "execute_result"
    }
   ],
   "source": [
    "myr2score = r2_score(Y_test,y_pred)\n",
    "myr2score"
   ]
  },
  {
   "cell_type": "code",
   "execution_count": null,
   "id": "5eddef66-68f2-4da2-b3cf-30b18b844448",
   "metadata": {},
   "outputs": [],
   "source": []
  }
 ],
 "metadata": {
  "kernelspec": {
   "display_name": "Python 3 (ipykernel)",
   "language": "python",
   "name": "python3"
  },
  "language_info": {
   "codemirror_mode": {
    "name": "ipython",
    "version": 3
   },
   "file_extension": ".py",
   "mimetype": "text/x-python",
   "name": "python",
   "nbconvert_exporter": "python",
   "pygments_lexer": "ipython3",
   "version": "3.12.7"
  }
 },
 "nbformat": 4,
 "nbformat_minor": 5
}
